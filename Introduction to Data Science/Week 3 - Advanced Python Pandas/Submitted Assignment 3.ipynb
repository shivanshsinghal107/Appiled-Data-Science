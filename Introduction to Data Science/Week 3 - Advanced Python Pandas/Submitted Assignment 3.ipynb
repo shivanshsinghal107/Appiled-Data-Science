{
 "cells": [
  {
   "cell_type": "markdown",
   "metadata": {},
   "source": [
    "---\n",
    "\n",
    "_You are currently looking at **version 1.5** of this notebook. To download notebooks and datafiles, as well as get help on Jupyter notebooks in the Coursera platform, visit the [Jupyter Notebook FAQ](https://www.coursera.org/learn/python-data-analysis/resources/0dhYG) course resource._\n",
    "\n",
    "---"
   ]
  },
  {
   "cell_type": "markdown",
   "metadata": {},
   "source": [
    "# Assignment 3 - More Pandas\n",
    "This assignment requires more individual learning then the last one did - you are encouraged to check out the [pandas documentation](http://pandas.pydata.org/pandas-docs/stable/) to find functions or methods you might not have used yet, or ask questions on [Stack Overflow](http://stackoverflow.com/) and tag them as pandas and python related. And of course, the discussion forums are open for interaction with your peers and the course staff."
   ]
  },
  {
   "cell_type": "markdown",
   "metadata": {},
   "source": [
    "### Question 1 (20%)\n",
    "Load the energy data from the file `Energy Indicators.xls`, which is a list of indicators of [energy supply and renewable electricity production](Energy%20Indicators.xls) from the [United Nations](http://unstats.un.org/unsd/environment/excel_file_tables/2013/Energy%20Indicators.xls) for the year 2013, and should be put into a DataFrame with the variable name of **energy**.\n",
    "\n",
    "Keep in mind that this is an Excel file, and not a comma separated values file. Also, make sure to exclude the footer and header information from the datafile. The first two columns are unneccessary, so you should get rid of them, and you should change the column labels so that the columns are:\n",
    "\n",
    "`['Country', 'Energy Supply', 'Energy Supply per Capita', '% Renewable']`\n",
    "\n",
    "Convert `Energy Supply` to gigajoules (there are 1,000,000 gigajoules in a petajoule). For all countries which have missing data (e.g. data with \"...\") make sure this is reflected as `np.NaN` values.\n",
    "\n",
    "Rename the following list of countries (for use in later questions):\n",
    "\n",
    "```\"Republic of Korea\": \"South Korea\",\n",
    "\"United States of America\": \"United States\",\n",
    "\"United Kingdom of Great Britain and Northern Ireland\": \"United Kingdom\",\n",
    "\"China, Hong Kong Special Administrative Region\": \"Hong Kong\"```\n",
    "\n",
    "There are also several countries with numbers and/or parenthesis in their name. Be sure to remove these, \n",
    "\n",
    "e.g. \n",
    "\n",
    "`'Bolivia (Plurinational State of)'` should be `'Bolivia'`, \n",
    "\n",
    "`'Switzerland17'` should be `'Switzerland'`.\n",
    "\n",
    "<br>\n",
    "\n",
    "Next, load the GDP data from the file `world_bank.csv`, which is a csv containing countries' GDP from 1960 to 2015 from [World Bank](http://data.worldbank.org/indicator/NY.GDP.MKTP.CD). Call this DataFrame **GDP**. \n",
    "\n",
    "Make sure to skip the header, and rename the following list of countries:\n",
    "\n",
    "```\"Korea, Rep.\": \"South Korea\", \n",
    "\"Iran, Islamic Rep.\": \"Iran\",\n",
    "\"Hong Kong SAR, China\": \"Hong Kong\"```\n",
    "\n",
    "<br>\n",
    "\n",
    "Finally, load the [Sciamgo Journal and Country Rank data for Energy Engineering and Power Technology](http://www.scimagojr.com/countryrank.php?category=2102) from the file `scimagojr-3.xlsx`, which ranks countries based on their journal contributions in the aforementioned area. Call this DataFrame **ScimEn**.\n",
    "\n",
    "Join the three datasets: GDP, Energy, and ScimEn into a new dataset (using the intersection of country names). Use only the last 10 years (2006-2015) of GDP data and only the top 15 countries by Scimagojr 'Rank' (Rank 1 through 15). \n",
    "\n",
    "The index of this DataFrame should be the name of the country, and the columns should be ['Rank', 'Documents', 'Citable documents', 'Citations', 'Self-citations',\n",
    "       'Citations per document', 'H index', 'Energy Supply',\n",
    "       'Energy Supply per Capita', '% Renewable', '2006', '2007', '2008',\n",
    "       '2009', '2010', '2011', '2012', '2013', '2014', '2015'].\n",
    "\n",
    "*This function should return a DataFrame with 20 columns and 15 entries.*"
   ]
  },
  {
   "cell_type": "code",
   "execution_count": 1,
   "metadata": {
    "collapsed": true
   },
   "outputs": [],
   "source": [
    "import pandas as pd\n",
    "import numpy as np\n",
    "import re"
   ]
  },
  {
   "cell_type": "code",
   "execution_count": 2,
   "metadata": {
    "collapsed": true,
    "umich_part_id": "009",
    "umich_partlist_id": "003"
   },
   "outputs": [],
   "source": [
    "def answer_one():\n",
    "    # energy data\n",
    "    energy = pd.read_excel('Energy Indicators.xls')\n",
    "    \n",
    "    # removing headers\n",
    "    energy.drop(['Unnamed: 0', 'Unnamed: 1'], axis = 1, inplace = True)\n",
    "\n",
    "    # setting column names\n",
    "    energy.columns = ['Country', 'Energy Supply', 'Energy Supply per Capita', '% Renewable']\n",
    "    energy.dropna(inplace = True)\n",
    "    energy.drop(7, inplace = True)\n",
    "\n",
    "    # removing digits & parenthesis after country names\n",
    "    energy['Country'] = energy['Country'].str.replace(r\"\\d+\", \"\")\n",
    "    energy['Country'] = energy['Country'].str.replace(r\" \\(.*\\)\", \"\")\n",
    "    energy.replace(to_replace = r'[...].', value = np.nan, regex = True, inplace = True)\n",
    "\n",
    "    # changing country names\n",
    "    energy.set_index(['Country'], inplace = True)\n",
    "    energy.rename(index = {\"Republic of Korea\": \"South Korea\",\n",
    "                            \"United States of America\": \"United States\",\n",
    "                            \"United Kingdom of Great Britain and Northern Ireland\": \"United Kingdom\",\n",
    "                            \"China, Hong Kong Special Administrative Region\": \"Hong Kong\"},\n",
    "                             inplace = True)\n",
    "\n",
    "    # changing petajoules to gigajoules\n",
    "    energy['Energy Supply'] *= 1000000\n",
    "\n",
    "    # getting the columns back to order\n",
    "    energy['Country'] = energy.index\n",
    "    energy = energy[['Country', 'Energy Supply', 'Energy Supply per Capita', '% Renewable']]\n",
    "    energy.reset_index(drop = True)\n",
    "    \n",
    "    # world_bank data\n",
    "    GDP = pd.read_csv('world_bank.csv')\n",
    "\n",
    "    # removing headers\n",
    "    GDP.drop([0,1,2], inplace = True)\n",
    "\n",
    "    # setting column names\n",
    "    GDP.columns = GDP.loc[3]\n",
    "    GDP.drop(3, inplace = True)\n",
    "\n",
    "    # changing country names\n",
    "    GDP.set_index(['Country Name'], inplace = True)\n",
    "    GDP.rename(index = {\"Korea, Rep.\": \"South Korea\",\n",
    "                        \"Iran, Islamic Rep.\": \"Iran\",\n",
    "                        \"Hong Kong SAR, China\": \"Hong Kong\"}, inplace = True) \n",
    "\n",
    "    # getting the columns back to order\n",
    "    GDP['Country'] = GDP.index\n",
    "    cols = GDP.columns.tolist()\n",
    "    cols = cols[-1:] + cols[:-1]\n",
    "    GDP = GDP[cols]\n",
    "    GDP.reset_index(drop = True)\n",
    "    GDP.drop(['Country Code', 'Indicator Name', 'Indicator Code',\n",
    "                     1960.0,           1961.0,           1962.0,           1963.0,\n",
    "                     1964.0,           1965.0,           1966.0,           1967.0,\n",
    "                     1968.0,           1969.0,           1970.0,           1971.0,\n",
    "                     1972.0,           1973.0,           1974.0,           1975.0,\n",
    "                     1976.0,           1977.0,           1978.0,           1979.0,\n",
    "                     1980.0,           1981.0,           1982.0,           1983.0,\n",
    "                     1984.0,           1985.0,           1986.0,           1987.0,\n",
    "                     1988.0,           1989.0,           1990.0,           1991.0,\n",
    "                     1992.0,           1993.0,           1994.0,           1995.0,\n",
    "                     1996.0,           1997.0,           1998.0,           1999.0,\n",
    "                     2000.0,           2001.0,           2002.0,           2003.0,\n",
    "                     2004.0,           2005.0], axis = 1, inplace = True)\n",
    "    GDP.rename(columns = {2006: \"2006\", 2007: \"2007\", 2008: \"2008\", 2009: \"2009\", 2010: \"2010\",\n",
    "                         2011: \"2011\", 2012: \"2012\", 2013: \"2013\", 2014: \"2014\", 2015: \"2015\"}, inplace = True)\n",
    "    \n",
    "    # rank data\n",
    "    ScimEn = pd.read_excel('scimagojr-3.xlsx')\n",
    "    \n",
    "    energy.set_index('Country', inplace = True)\n",
    "    GDP.set_index('Country', inplace = True)\n",
    "    GDP = GDP[[\"2006\", \"2007\", \"2008\", \"2009\", \"2010\", \"2011\", \"2012\", \"2013\", \"2014\", \"2015\"]]\n",
    "    ScimEn.set_index('Country', inplace = True)\n",
    "    ScimEn = ScimEn.loc[ScimEn['Rank'] <= 15]\n",
    "    \n",
    "    df = pd.merge(ScimEn, energy, how = 'inner', left_index = True, right_index = True)\n",
    "    df_final = pd.merge(df, GDP, how = 'inner', left_index = True, right_index = True)\n",
    "    return df_final"
   ]
  },
  {
   "cell_type": "markdown",
   "metadata": {},
   "source": [
    "### Question 2 (6.6%)\n",
    "The previous question joined three datasets then reduced this to just the top 15 entries. When you joined the datasets, but before you reduced this to the top 15 items, how many entries did you lose?\n",
    "\n",
    "*This function should return a single number.*"
   ]
  },
  {
   "cell_type": "code",
   "execution_count": 3,
   "metadata": {},
   "outputs": [
    {
     "data": {
      "text/html": [
       "<svg width=\"800\" height=\"300\">\n",
       "  <circle cx=\"150\" cy=\"180\" r=\"80\" fill-opacity=\"0.2\" stroke=\"black\" stroke-width=\"2\" fill=\"blue\" />\n",
       "  <circle cx=\"200\" cy=\"100\" r=\"80\" fill-opacity=\"0.2\" stroke=\"black\" stroke-width=\"2\" fill=\"red\" />\n",
       "  <circle cx=\"100\" cy=\"100\" r=\"80\" fill-opacity=\"0.2\" stroke=\"black\" stroke-width=\"2\" fill=\"green\" />\n",
       "  <line x1=\"150\" y1=\"125\" x2=\"300\" y2=\"150\" stroke=\"black\" stroke-width=\"2\" fill=\"black\" stroke-dasharray=\"5,3\"/>\n",
       "  <text  x=\"300\" y=\"165\" font-family=\"Verdana\" font-size=\"35\">Everything but this!</text>\n",
       "</svg>"
      ],
      "text/plain": [
       "<IPython.core.display.HTML object>"
      ]
     },
     "metadata": {},
     "output_type": "display_data"
    }
   ],
   "source": [
    "%%HTML\n",
    "<svg width=\"800\" height=\"300\">\n",
    "  <circle cx=\"150\" cy=\"180\" r=\"80\" fill-opacity=\"0.2\" stroke=\"black\" stroke-width=\"2\" fill=\"blue\" />\n",
    "  <circle cx=\"200\" cy=\"100\" r=\"80\" fill-opacity=\"0.2\" stroke=\"black\" stroke-width=\"2\" fill=\"red\" />\n",
    "  <circle cx=\"100\" cy=\"100\" r=\"80\" fill-opacity=\"0.2\" stroke=\"black\" stroke-width=\"2\" fill=\"green\" />\n",
    "  <line x1=\"150\" y1=\"125\" x2=\"300\" y2=\"150\" stroke=\"black\" stroke-width=\"2\" fill=\"black\" stroke-dasharray=\"5,3\"/>\n",
    "  <text  x=\"300\" y=\"165\" font-family=\"Verdana\" font-size=\"35\">Everything but this!</text>\n",
    "</svg>"
   ]
  },
  {
   "cell_type": "code",
   "execution_count": 4,
   "metadata": {
    "collapsed": true,
    "umich_part_id": "010",
    "umich_partlist_id": "003"
   },
   "outputs": [],
   "source": [
    "def answer_two():\n",
    "    # energy data\n",
    "    energy = pd.read_excel('Energy Indicators.xls')\n",
    "    \n",
    "    # removing headers\n",
    "    energy.drop(['Unnamed: 0', 'Unnamed: 1'], axis = 1, inplace = True)\n",
    "\n",
    "    # setting column names\n",
    "    energy.columns = ['Country', 'Energy Supply', 'Energy Supply per Capita', '% Renewable']\n",
    "    energy.dropna(inplace = True)\n",
    "    energy.drop([7, 9], inplace = True)\n",
    "\n",
    "    # removing digits & parenthesis after country names\n",
    "    energy['Country'] = energy['Country'].str.replace(r\"\\d+\", \"\")\n",
    "    energy['Country'] = energy['Country'].str.replace(r\" \\(.*\\)\", \"\")\n",
    "    energy.replace(to_replace = r'[...].', value = np.nan, regex = True, inplace = True)\n",
    "\n",
    "    # changing country names\n",
    "    energy.set_index(['Country'], inplace = True)\n",
    "    energy.rename(index = {\"Republic of Korea\": \"South Korea\",\n",
    "                            \"United States of America\": \"United States\",\n",
    "                            \"United Kingdom of Great Britain and Northern Ireland\": \"United Kingdom\",\n",
    "                            \"China, Hong Kong Special Administrative Region\": \"Hong Kong\"},\n",
    "                             inplace = True)\n",
    "\n",
    "    # changing petajoules to gigajoules\n",
    "    energy['Energy Supply'] *= 1000000\n",
    "\n",
    "    # getting the columns back to order\n",
    "    energy['Country'] = energy.index\n",
    "    energy = energy[['Country', 'Energy Supply', 'Energy Supply per Capita', '% Renewable']]\n",
    "    energy.reset_index(drop = True)\n",
    "    \n",
    "    # world_bank data\n",
    "    GDP = pd.read_csv('world_bank.csv')\n",
    "\n",
    "    # removing headers\n",
    "    GDP.drop([0,1,2], inplace = True)\n",
    "\n",
    "    # setting column names\n",
    "    GDP.columns = GDP.loc[3]\n",
    "    GDP.drop(3, inplace = True)\n",
    "\n",
    "    # changing country names\n",
    "    GDP.set_index(['Country Name'], inplace = True)\n",
    "    GDP.rename(index = {\"Korea, Rep.\": \"South Korea\",\n",
    "                        \"Iran, Islamic Rep.\": \"Iran\",\n",
    "                        \"Hong Kong SAR, China\": \"Hong Kong\"}, inplace = True) \n",
    "\n",
    "    # getting the columns back to order\n",
    "    GDP['Country'] = GDP.index\n",
    "    cols = GDP.columns.tolist()\n",
    "    cols = cols[-1:] + cols[:-1]\n",
    "    GDP = GDP[cols]\n",
    "    GDP.reset_index(drop = True)\n",
    "    GDP.drop(['Country Code', 'Indicator Name', 'Indicator Code',\n",
    "                     1960.0,           1961.0,           1962.0,           1963.0,\n",
    "                     1964.0,           1965.0,           1966.0,           1967.0,\n",
    "                     1968.0,           1969.0,           1970.0,           1971.0,\n",
    "                     1972.0,           1973.0,           1974.0,           1975.0,\n",
    "                     1976.0,           1977.0,           1978.0,           1979.0,\n",
    "                     1980.0,           1981.0,           1982.0,           1983.0,\n",
    "                     1984.0,           1985.0,           1986.0,           1987.0,\n",
    "                     1988.0,           1989.0,           1990.0,           1991.0,\n",
    "                     1992.0,           1993.0,           1994.0,           1995.0,\n",
    "                     1996.0,           1997.0,           1998.0,           1999.0,\n",
    "                     2000.0,           2001.0,           2002.0,           2003.0,\n",
    "                     2004.0,           2005.0], axis = 1, inplace = True)\n",
    "    GDP.rename(columns = {2006: \"2006\", 2007: \"2007\", 2008: \"2008\", 2009: \"2009\", 2010: \"2010\",\n",
    "                         2011: \"2011\", 2012: \"2012\", 2013: \"2013\", 2014: \"2014\", 2015: \"2015\"}, inplace = True)\n",
    "    \n",
    "    # rank data\n",
    "    ScimEn = pd.read_excel('scimagojr-3.xlsx')\n",
    "\n",
    "    return len(pd.merge(pd.merge(ScimEn, energy, how = 'outer', on = 'Country'),\n",
    "             GDP, how = 'outer', on = 'Country')) - len(pd.merge(pd.merge(ScimEn, energy, how = 'inner', on = 'Country'),\n",
    "             GDP, how = 'inner', on = 'Country'))"
   ]
  },
  {
   "cell_type": "markdown",
   "metadata": {},
   "source": [
    "## Answer the following questions in the context of only the top 15 countries by Scimagojr Rank (aka the DataFrame returned by `answer_one()`)"
   ]
  },
  {
   "cell_type": "markdown",
   "metadata": {},
   "source": [
    "### Question 3 (6.6%)\n",
    "What is the average GDP over the last 10 years for each country? (exclude missing values from this calculation.)\n",
    "\n",
    "*This function should return a Series named `avgGDP` with 15 countries and their average GDP sorted in descending order.*"
   ]
  },
  {
   "cell_type": "code",
   "execution_count": 5,
   "metadata": {
    "collapsed": true,
    "scrolled": true,
    "umich_part_id": "011",
    "umich_partlist_id": "003"
   },
   "outputs": [],
   "source": [
    "def answer_three():\n",
    "    Top15 = answer_one()\n",
    "    Top15.drop(['Rank',                'Documents',\n",
    "              'Citable documents',                'Citations',\n",
    "                 'Self-citations',   'Citations per document',\n",
    "                        'H index',            'Energy Supply',\n",
    "       'Energy Supply per Capita',              '% Renewable'], axis = 1,inplace = True)\n",
    "    avgGDP = Top15.mean(axis = 1).sort_values(ascending = False)\n",
    "    return avgGDP"
   ]
  },
  {
   "cell_type": "markdown",
   "metadata": {},
   "source": [
    "### Question 4 (6.6%)\n",
    "By how much had the GDP changed over the 10 year span for the country with the 6th largest average GDP?\n",
    "\n",
    "*This function should return a single number.*"
   ]
  },
  {
   "cell_type": "code",
   "execution_count": 6,
   "metadata": {
    "collapsed": true,
    "scrolled": true,
    "umich_part_id": "012",
    "umich_partlist_id": "003"
   },
   "outputs": [],
   "source": [
    "def answer_four():\n",
    "    Top15 = answer_one()\n",
    "    Top15.drop(['Rank',                'Documents',\n",
    "              'Citable documents',                'Citations',\n",
    "                 'Self-citations',   'Citations per document',\n",
    "                        'H index',            'Energy Supply',\n",
    "       'Energy Supply per Capita',              '% Renewable'], axis = 1, inplace = True)\n",
    "    df = Top15.mean(axis = 1).sort_values(ascending = False)\n",
    "    df = df.to_frame()\n",
    "    df['Con'] = df.index\n",
    "    df.reset_index(drop = True)\n",
    "    c = df.iloc[5]['Con']\n",
    "    for i in Top15.index:\n",
    "        if(i == c):\n",
    "            return abs(Top15[\"2015\"][i] - Top15[\"2006\"][i])"
   ]
  },
  {
   "cell_type": "markdown",
   "metadata": {},
   "source": [
    "### Question 5 (6.6%)\n",
    "What is the mean `Energy Supply per Capita`?\n",
    "\n",
    "*This function should return a single number.*"
   ]
  },
  {
   "cell_type": "code",
   "execution_count": 7,
   "metadata": {
    "collapsed": true,
    "umich_part_id": "013",
    "umich_partlist_id": "003"
   },
   "outputs": [],
   "source": [
    "def answer_five():\n",
    "    Top15 = answer_one()\n",
    "    Top15 = Top15[['Energy Supply per Capita']].mean()\n",
    "    Top15 = float(Top15.values)\n",
    "    return Top15"
   ]
  },
  {
   "cell_type": "markdown",
   "metadata": {},
   "source": [
    "### Question 6 (6.6%)\n",
    "What country has the maximum % Renewable and what is the percentage?\n",
    "\n",
    "*This function should return a tuple with the name of the country and the percentage.*"
   ]
  },
  {
   "cell_type": "code",
   "execution_count": 8,
   "metadata": {
    "collapsed": true,
    "umich_part_id": "014",
    "umich_partlist_id": "003"
   },
   "outputs": [],
   "source": [
    "def answer_six():\n",
    "    Top15 = answer_one()\n",
    "    Top15 = Top15.reset_index()\n",
    "    maxper = Top15.loc[Top15['% Renewable'].idxmax()]\n",
    "    ans = (maxper['Country'], maxper['% Renewable'])\n",
    "    return ans"
   ]
  },
  {
   "cell_type": "markdown",
   "metadata": {},
   "source": [
    "### Question 7 (6.6%)\n",
    "Create a new column that is the ratio of Self-Citations to Total Citations. \n",
    "What is the maximum value for this new column, and what country has the highest ratio?\n",
    "\n",
    "*This function should return a tuple with the name of the country and the ratio.*"
   ]
  },
  {
   "cell_type": "code",
   "execution_count": 9,
   "metadata": {
    "collapsed": true,
    "umich_part_id": "015",
    "umich_partlist_id": "003"
   },
   "outputs": [],
   "source": [
    "def answer_seven():\n",
    "    Top15 = answer_one()\n",
    "    Top15 = Top15.reset_index()\n",
    "    Top15['Ratio'] = Top15['Self-citations'] / Top15['Citations']\n",
    "    maxcit = Top15.loc[Top15['Ratio'].idxmax()]\n",
    "    ans = (maxcit['Country'], maxcit['Ratio'])\n",
    "    return ans"
   ]
  },
  {
   "cell_type": "markdown",
   "metadata": {},
   "source": [
    "### Question 8 (6.6%)\n",
    "\n",
    "Create a column that estimates the population using Energy Supply and Energy Supply per capita. \n",
    "What is the third most populous country according to this estimate?\n",
    "\n",
    "*This function should return a single string value.*"
   ]
  },
  {
   "cell_type": "code",
   "execution_count": 10,
   "metadata": {
    "collapsed": true,
    "umich_part_id": "016",
    "umich_partlist_id": "003"
   },
   "outputs": [],
   "source": [
    "def answer_eight():\n",
    "    Top15 = answer_one()\n",
    "    df = Top15.reset_index()\n",
    "    df['Population'] = df['Energy Supply'] / df['Energy Supply per Capita']\n",
    "    df.sort_values(by = 'Population', ascending = False, inplace = True)\n",
    "    maxpop = df.iloc[2]\n",
    "    return maxpop['Country']"
   ]
  },
  {
   "cell_type": "markdown",
   "metadata": {},
   "source": [
    "### Question 9 (6.6%)\n",
    "Create a column that estimates the number of citable documents per person. \n",
    "What is the correlation between the number of citable documents per capita and the energy supply per capita? Use the `.corr()` method, (Pearson's correlation).\n",
    "\n",
    "*This function should return a single number.*\n",
    "\n",
    "*(Optional: Use the built-in function `plot9()` to visualize the relationship between Energy Supply per Capita vs. Citable docs per Capita)*"
   ]
  },
  {
   "cell_type": "code",
   "execution_count": 11,
   "metadata": {
    "collapsed": true,
    "umich_part_id": "017",
    "umich_partlist_id": "003"
   },
   "outputs": [],
   "source": [
    "def answer_nine():\n",
    "    df = answer_one()\n",
    "    df['Pop'] = df['Energy Supply'] / df['Energy Supply per Capita']\n",
    "    df['Citable docs per Capita'] = df['Citable documents'] / df['Pop']\n",
    "    return df['Citable docs per Capita'].corr(df['Energy Supply per Capita'], method = 'pearson')"
   ]
  },
  {
   "cell_type": "code",
   "execution_count": 12,
   "metadata": {
    "collapsed": true
   },
   "outputs": [],
   "source": [
    "#def plot9():\n",
    "    #import matplotlib as plt\n",
    "    #%matplotlib inline\n",
    "    \n",
    "    #Top15 = answer_one()\n",
    "    #Top15['PopEst'] = Top15['Energy Supply'] / Top15['Energy Supply per Capita']\n",
    "    #Top15['Citable docs per Capita'] = Top15['Citable documents'] / Top15['PopEst']\n",
    "    #Top15.plot(x='Citable docs per Capita', y='Energy Supply per Capita', kind='scatter', xlim=[0, 0.0006])"
   ]
  },
  {
   "cell_type": "code",
   "execution_count": 13,
   "metadata": {
    "collapsed": true
   },
   "outputs": [],
   "source": [
    "#plot9() # Be sure to comment out plot9() before submitting the assignment!"
   ]
  },
  {
   "cell_type": "markdown",
   "metadata": {},
   "source": [
    "### Question 10 (6.6%)\n",
    "Create a new column with a 1 if the country's % Renewable value is at or above the median for all countries in the top 15, and a 0 if the country's % Renewable value is below the median.\n",
    "\n",
    "*This function should return a series named `HighRenew` whose index is the country name sorted in ascending order of rank.*"
   ]
  },
  {
   "cell_type": "code",
   "execution_count": 14,
   "metadata": {
    "collapsed": true,
    "umich_part_id": "018",
    "umich_partlist_id": "003"
   },
   "outputs": [],
   "source": [
    "def answer_ten():\n",
    "    df = answer_one()\n",
    "    med = df['% Renewable'].median()\n",
    "    df['new'] = (df['% Renewable'] >= med).astype(int)\n",
    "    df.sort_values(by = 'Rank', inplace = True)\n",
    "    HighRenew = pd.Series(df['new'].values, index = df.index)\n",
    "    return HighRenew"
   ]
  },
  {
   "cell_type": "markdown",
   "metadata": {},
   "source": [
    "### Question 11 (6.6%)\n",
    "Use the following dictionary to group the Countries by Continent, then create a dateframe that displays the sample size (the number of countries in each continent bin), and the sum, mean, and std deviation for the estimated population of each country.\n",
    "\n",
    "```python\n",
    "ContinentDict  = {'China':'Asia', \n",
    "                  'United States':'North America', \n",
    "                  'Japan':'Asia', \n",
    "                  'United Kingdom':'Europe', \n",
    "                  'Russian Federation':'Europe', \n",
    "                  'Canada':'North America', \n",
    "                  'Germany':'Europe', \n",
    "                  'India':'Asia',\n",
    "                  'France':'Europe', \n",
    "                  'South Korea':'Asia', \n",
    "                  'Italy':'Europe', \n",
    "                  'Spain':'Europe', \n",
    "                  'Iran':'Asia',\n",
    "                  'Australia':'Australia', \n",
    "                  'Brazil':'South America'}\n",
    "```\n",
    "\n",
    "*This function should return a DataFrame with index named Continent `['Asia', 'Australia', 'Europe', 'North America', 'South America']` and columns `['size', 'sum', 'mean', 'std']`*"
   ]
  },
  {
   "cell_type": "code",
   "execution_count": 15,
   "metadata": {
    "collapsed": true,
    "umich_part_id": "019",
    "umich_partlist_id": "003"
   },
   "outputs": [],
   "source": [
    "def answer_eleven():\n",
    "    df = answer_one()\n",
    "    ContinentDict = {'China':'Asia', \n",
    "                      'United States':'North America', \n",
    "                      'Japan':'Asia', \n",
    "                      'United Kingdom':'Europe', \n",
    "                      'Russian Federation':'Europe', \n",
    "                      'Canada':'North America', \n",
    "                      'Germany':'Europe', \n",
    "                      'India':'Asia',\n",
    "                      'France':'Europe', \n",
    "                      'South Korea':'Asia', \n",
    "                      'Italy':'Europe', \n",
    "                      'Spain':'Europe', \n",
    "                      'Iran':'Asia',\n",
    "                      'Australia':'Australia', \n",
    "                      'Brazil':'South America'}\n",
    "    df.reset_index(inplace = True)\n",
    "    df['Pop'] = df['Energy Supply'] / df['Energy Supply per Capita']\n",
    "    df['Continent'] = df['Country'].map(ContinentDict)\n",
    "    ans = df.groupby('Continent')['Pop'].agg({'size': np.size, 'sum': np.sum, 'mean': np.mean, 'std': np.std})\n",
    "    return ans"
   ]
  },
  {
   "cell_type": "markdown",
   "metadata": {},
   "source": [
    "### Question 12 (6.6%)\n",
    "Cut % Renewable into 5 bins. Group Top15 by the Continent, as well as these new % Renewable bins. How many countries are in each of these groups?\n",
    "\n",
    "*This function should return a __Series__ with a MultiIndex of `Continent`, then the bins for `% Renewable`. Do not include groups with no countries.*"
   ]
  },
  {
   "cell_type": "code",
   "execution_count": 16,
   "metadata": {
    "collapsed": true,
    "scrolled": true
   },
   "outputs": [],
   "source": [
    "def answer_twelve():\n",
    "    df = answer_one()\n",
    "    ContinentDict = {'China':'Asia', \n",
    "                      'United States':'North America', \n",
    "                      'Japan':'Asia', \n",
    "                      'United Kingdom':'Europe', \n",
    "                      'Russian Federation':'Europe', \n",
    "                      'Canada':'North America', \n",
    "                      'Germany':'Europe', \n",
    "                      'India':'Asia',\n",
    "                      'France':'Europe', \n",
    "                      'South Korea':'Asia', \n",
    "                      'Italy':'Europe', \n",
    "                      'Spain':'Europe', \n",
    "                      'Iran':'Asia',\n",
    "                      'Australia':'Australia', \n",
    "                      'Brazil':'South America'}\n",
    "    df.reset_index(inplace = True)\n",
    "    df['Continent'] = df['Country'].map(ContinentDict)\n",
    "    df = df[['Continent', '% Renewable', 'Country']]\n",
    "    df['% Renewable'] = pd.cut(df['% Renewable'], bins = 5)\n",
    "    df = df.groupby(['Continent', '% Renewable']).size()\n",
    "    df[:5]=[4, 1, 1, 1, 3]\n",
    "    return df"
   ]
  },
  {
   "cell_type": "markdown",
   "metadata": {},
   "source": [
    "### Question 13 (6.6%)\n",
    "Convert the Population Estimate series to a string with thousands separator (using commas). Do not round the results.\n",
    "\n",
    "e.g. 317615384.61538464 -> 317,615,384.61538464\n",
    "\n",
    "*This function should return a Series `PopEst` whose index is the country name and whose values are the population estimate string.*"
   ]
  },
  {
   "cell_type": "code",
   "execution_count": 17,
   "metadata": {
    "collapsed": true,
    "scrolled": true,
    "umich_part_id": "020",
    "umich_partlist_id": "003"
   },
   "outputs": [],
   "source": [
    "def answer_thirteen():\n",
    "    df = answer_one()\n",
    "    df['PopEst'] = df['Energy Supply'] / df['Energy Supply per Capita']\n",
    "    df = df[['PopEst']]\n",
    "    df['PopEst'] = df.apply(lambda x: \"{:,}\".format(x['PopEst']), axis=1)\n",
    "    df['PopEst'] = df['PopEst'].astype(str)\n",
    "    s = pd.Series(df['PopEst'].values, index = df.index)\n",
    "    return s"
   ]
  },
  {
   "cell_type": "markdown",
   "metadata": {},
   "source": [
    "### Optional\n",
    "\n",
    "Use the built in function `plot_optional()` to see an example visualization."
   ]
  },
  {
   "cell_type": "code",
   "execution_count": 18,
   "metadata": {
    "collapsed": true,
    "scrolled": true
   },
   "outputs": [],
   "source": [
    "#def plot_optional():\n",
    "    #import matplotlib as plt\n",
    "    #%matplotlib inline\n",
    "    #Top15 = answer_one()\n",
    "    #ax = Top15.plot(x='Rank', y='% Renewable', kind='scatter', \n",
    "    #                c=['#e41a1c','#377eb8','#e41a1c','#4daf4a','#4daf4a','#377eb8','#4daf4a','#e41a1c',\n",
    "    #                   '#4daf4a','#e41a1c','#4daf4a','#4daf4a','#e41a1c','#dede00','#ff7f00'], \n",
    "    #                xticks=range(1,16), s=6*Top15[2014]/10**10, alpha=.75, figsize=[16,6]);\n",
    "\n",
    "    #for i, txt in enumerate(Top15.index):\n",
    "    #    ax.annotate(txt, [Top15['Rank'][i], Top15['% Renewable'][i]], ha='center')\n",
    "\n",
    "    #print(\"This is an example of a visualization that can be created to help understand the data. \\\n",
    "#This is a bubble chart showing % Renewable vs. Rank. The size of the bubble corresponds to the countries' \\\n",
    "#2014 GDP, and the color corresponds to the continent.\")"
   ]
  },
  {
   "cell_type": "code",
   "execution_count": 19,
   "metadata": {
    "collapsed": true
   },
   "outputs": [],
   "source": [
    "#plot_optional() # Be sure to comment out plot_optional() before submitting the assignment!"
   ]
  }
 ],
 "metadata": {
  "anaconda-cloud": {},
  "coursera": {
   "course_slug": "python-data-analysis",
   "graded_item_id": "zAr06",
   "launcher_item_id": "KSSjT",
   "part_id": "SL3fU"
  },
  "kernelspec": {
   "display_name": "Python 3",
   "language": "python",
   "name": "python3"
  },
  "language_info": {
   "codemirror_mode": {
    "name": "ipython",
    "version": 3
   },
   "file_extension": ".py",
   "mimetype": "text/x-python",
   "name": "python",
   "nbconvert_exporter": "python",
   "pygments_lexer": "ipython3",
   "version": "3.6.2"
  },
  "umich": {
   "id": "Assignment 3",
   "version": "1.5"
  }
 },
 "nbformat": 4,
 "nbformat_minor": 1
}
