{
 "cells": [
  {
   "cell_type": "markdown",
   "metadata": {},
   "source": [
    "---\n",
    "\n",
    "_You are currently looking at **version 1.1** of this notebook. To download notebooks and datafiles, as well as get help on Jupyter notebooks in the Coursera platform, visit the [Jupyter Notebook FAQ](https://www.coursera.org/learn/python-data-analysis/resources/0dhYG) course resource._\n",
    "\n",
    "---"
   ]
  },
  {
   "cell_type": "code",
   "execution_count": 1,
   "metadata": {
    "collapsed": true
   },
   "outputs": [],
   "source": [
    "import pandas as pd\n",
    "import numpy as np\n",
    "from scipy.stats import ttest_ind"
   ]
  },
  {
   "cell_type": "markdown",
   "metadata": {},
   "source": [
    "# Assignment 4 - Hypothesis Testing\n",
    "This assignment requires more individual learning than previous assignments - you are encouraged to check out the [pandas documentation](http://pandas.pydata.org/pandas-docs/stable/) to find functions or methods you might not have used yet, or ask questions on [Stack Overflow](http://stackoverflow.com/) and tag them as pandas and python related. And of course, the discussion forums are open for interaction with your peers and the course staff.\n",
    "\n",
    "Definitions:\n",
    "* A _quarter_ is a specific three month period, Q1 is January through March, Q2 is April through June, Q3 is July through September, Q4 is October through December.\n",
    "* A _recession_ is defined as starting with two consecutive quarters of GDP decline, and ending with two consecutive quarters of GDP growth.\n",
    "* A _recession bottom_ is the quarter within a recession which had the lowest GDP.\n",
    "* A _university town_ is a city which has a high percentage of university students compared to the total population of the city.\n",
    "\n",
    "**Hypothesis**: University towns have their mean housing prices less effected by recessions. Run a t-test to compare the ratio of the mean price of houses in university towns the quarter before the recession starts compared to the recession bottom. (`price_ratio=quarter_before_recession/recession_bottom`)\n",
    "\n",
    "The following data files are available for this assignment:\n",
    "* From the [Zillow research data site](http://www.zillow.com/research/data/) there is housing data for the United States. In particular the datafile for [all homes at a city level](http://files.zillowstatic.com/research/public/City/City_Zhvi_AllHomes.csv), ```City_Zhvi_AllHomes.csv```, has median home sale prices at a fine grained level.\n",
    "* From the Wikipedia page on college towns is a list of [university towns in the United States](https://en.wikipedia.org/wiki/List_of_college_towns#College_towns_in_the_United_States) which has been copy and pasted into the file ```university_towns.txt```.\n",
    "* From Bureau of Economic Analysis, US Department of Commerce, the [GDP over time](http://www.bea.gov/national/index.htm#gdp) of the United States in current dollars (use the chained value in 2009 dollars), in quarterly intervals, in the file ```gdplev.xls```. For this assignment, only look at GDP data from the first quarter of 2000 onward.\n",
    "\n",
    "Each function in this assignment below is worth 10%, with the exception of ```run_ttest()```, which is worth 50%."
   ]
  },
  {
   "cell_type": "code",
   "execution_count": 2,
   "metadata": {
    "collapsed": true
   },
   "outputs": [],
   "source": [
    "# Use this dictionary to map state names to two letter acronyms\n",
    "states = {'OH': 'Ohio', 'KY': 'Kentucky', 'AS': 'American Samoa', 'NV': 'Nevada', 'WY': 'Wyoming', 'NA': 'National', 'AL': 'Alabama', 'MD': 'Maryland', 'AK': 'Alaska', 'UT': 'Utah', 'OR': 'Oregon', 'MT': 'Montana', 'IL': 'Illinois', 'TN': 'Tennessee', 'DC': 'District of Columbia', 'VT': 'Vermont', 'ID': 'Idaho', 'AR': 'Arkansas', 'ME': 'Maine', 'WA': 'Washington', 'HI': 'Hawaii', 'WI': 'Wisconsin', 'MI': 'Michigan', 'IN': 'Indiana', 'NJ': 'New Jersey', 'AZ': 'Arizona', 'GU': 'Guam', 'MS': 'Mississippi', 'PR': 'Puerto Rico', 'NC': 'North Carolina', 'TX': 'Texas', 'SD': 'South Dakota', 'MP': 'Northern Mariana Islands', 'IA': 'Iowa', 'MO': 'Missouri', 'CT': 'Connecticut', 'WV': 'West Virginia', 'SC': 'South Carolina', 'LA': 'Louisiana', 'KS': 'Kansas', 'NY': 'New York', 'NE': 'Nebraska', 'OK': 'Oklahoma', 'FL': 'Florida', 'CA': 'California', 'CO': 'Colorado', 'PA': 'Pennsylvania', 'DE': 'Delaware', 'NM': 'New Mexico', 'RI': 'Rhode Island', 'MN': 'Minnesota', 'VI': 'Virgin Islands', 'NH': 'New Hampshire', 'MA': 'Massachusetts', 'GA': 'Georgia', 'ND': 'North Dakota', 'VA': 'Virginia'}"
   ]
  },
  {
   "cell_type": "code",
   "execution_count": 3,
   "metadata": {
    "collapsed": true,
    "umich_part_id": "021",
    "umich_partlist_id": "004"
   },
   "outputs": [],
   "source": [
    "def get_list_of_university_towns():\n",
    "    '''Returns a DataFrame of towns and the states they are in from the \n",
    "    university_towns.txt list. The format of the DataFrame should be:\n",
    "    DataFrame( [ [\"Michigan\", \"Ann Arbor\"], [\"Michigan\", \"Yipsilanti\"] ], \n",
    "    columns=[\"State\", \"RegionName\"]  )\n",
    "    \n",
    "    The following cleaning needs to be done:\n",
    "\n",
    "    1. For \"State\", removing characters from \"[\" to the end.\n",
    "    2. For \"RegionName\", when applicable, removing every character from \" (\" to the end.\n",
    "    3. Depending on how you read the data, you may need to remove newline character '\\n'. '''\n",
    "    \n",
    "    file = open('university_towns.txt', 'r')\n",
    "    lines = file.readlines()\n",
    "    row = []\n",
    "    for line in lines:\n",
    "        state = np.nan\n",
    "        region = np.nan\n",
    "        if \"[ed\" in line:\n",
    "            state = line.split(\"[ed\")[0].strip()\n",
    "        elif \" (\" in line:\n",
    "            region = line.split(\" (\")[0].strip()\n",
    "        else:\n",
    "            region = line.strip()\n",
    "        row.append([state, region])\n",
    "    df = pd.DataFrame(row, columns = ['State', 'RegionName'])\n",
    "    df['State'] = df['State'].fillna(method = \"ffill\")\n",
    "    df = df.dropna().reset_index(drop = True)\n",
    "    df.loc[96, 'RegionName'] = 'Champaign–Urbana'\n",
    "    return df"
   ]
  },
  {
   "cell_type": "code",
   "execution_count": 4,
   "metadata": {
    "collapsed": true,
    "umich_part_id": "022",
    "umich_partlist_id": "004"
   },
   "outputs": [],
   "source": [
    "def get_recession_start():\n",
    "    '''Returns the year and quarter of the recession start time as a \n",
    "    string value in a format such as 2005q3'''\n",
    "    df = pd.read_excel('gdplev.xls')\n",
    "    df.drop(['Current-Dollar and \"Real\" Gross Domestic Product', 'Unnamed: 1', 'Unnamed: 2', 'Unnamed: 3'], axis = 1, inplace = True)\n",
    "    df.drop([0,1,2,3,4,5,6], inplace = True)\n",
    "    df.columns = ['Quarter', 'GDP', 'GDP 2009', 'Date']\n",
    "    df.drop(['Date', 'GDP'], axis = 1, inplace = True)\n",
    "    df = df.loc[df['Quarter'].str[:4].astype(int) >= 2000]\n",
    "    df.reset_index(drop = True, inplace = True)\n",
    "    i = 1\n",
    "    while i < len(df.index):\n",
    "        if df.loc[i-1, 'GDP 2009'] > df.loc[i, 'GDP 2009']:\n",
    "            if df.loc[i, 'GDP 2009'] > df.loc[i+1, 'GDP 2009']:\n",
    "                rs = df.loc[i, 'Quarter']\n",
    "                break\n",
    "        i = i+1\n",
    "    return rs"
   ]
  },
  {
   "cell_type": "code",
   "execution_count": 5,
   "metadata": {
    "collapsed": true,
    "umich_part_id": "023",
    "umich_partlist_id": "004"
   },
   "outputs": [],
   "source": [
    "def get_recession_end():\n",
    "    '''Returns the year and quarter of the recession end time as a \n",
    "    string value in a format such as 2005q3'''\n",
    "    df = pd.read_excel('gdplev.xls')\n",
    "    df.drop(['Current-Dollar and \"Real\" Gross Domestic Product', 'Unnamed: 1', 'Unnamed: 2', 'Unnamed: 3'], axis = 1, inplace = True)\n",
    "    df.drop([0,1,2,3,4,5,6], inplace = True)\n",
    "    df.columns = ['Quarter', 'GDP', 'GDP 2009', 'Date']\n",
    "    df.drop(['Date', 'GDP'], axis = 1, inplace = True)\n",
    "    df = df.loc[df['Quarter'].str[:4].astype(int) >= 2000]\n",
    "    df.reset_index(drop = True, inplace = True)\n",
    "    for ind in df.index:\n",
    "        if df.loc[ind, 'Quarter'] == get_recession_bottom():\n",
    "            i = ind+2\n",
    "    while i < len(df.index):\n",
    "        if df.loc[i-1, 'GDP 2009'] < df.loc[i, 'GDP 2009']:\n",
    "            if df.loc[i+1, 'GDP 2009'] > df.loc[i, 'GDP 2009']:\n",
    "                re = df.loc[i, 'Quarter']\n",
    "                break\n",
    "        i = i+1\n",
    "    return re"
   ]
  },
  {
   "cell_type": "code",
   "execution_count": 6,
   "metadata": {
    "collapsed": true,
    "umich_part_id": "024",
    "umich_partlist_id": "004"
   },
   "outputs": [],
   "source": [
    "def get_recession_bottom():\n",
    "    '''Returns the year and quarter of the recession bottom time as a \n",
    "    string value in a format such as 2005q3'''\n",
    "    df = pd.read_excel('gdplev.xls')\n",
    "    df.drop(['Current-Dollar and \"Real\" Gross Domestic Product', 'Unnamed: 1', 'Unnamed: 2', 'Unnamed: 3'], axis = 1, inplace = True)\n",
    "    df.drop([0,1,2,3,4,5,6], inplace = True)\n",
    "    df.columns = ['Quarter', 'GDP', 'GDP 2009', 'Date']\n",
    "    df.drop(['Date', 'GDP'], axis = 1, inplace = True)\n",
    "    df = df.loc[df['Quarter'].str[:4].astype(int) >= 2000]\n",
    "    df.reset_index(drop = True, inplace = True)\n",
    "    for ind in df.index:\n",
    "        if df.loc[ind, 'Quarter'] == get_recession_start():\n",
    "            i = ind\n",
    "    while i < len(df.index):\n",
    "        if df.loc[i-1, 'GDP 2009'] > df.loc[i, 'GDP 2009']:\n",
    "            if df.loc[i+1, 'GDP 2009'] > df.loc[i, 'GDP 2009']:\n",
    "                rb = df.loc[i, 'Quarter']\n",
    "                break\n",
    "        i = i+1\n",
    "    return rb"
   ]
  },
  {
   "cell_type": "code",
   "execution_count": 7,
   "metadata": {
    "collapsed": true,
    "umich_part_id": "025",
    "umich_partlist_id": "004"
   },
   "outputs": [],
   "source": [
    "def convert_housing_data_to_quarters():\n",
    "    '''Converts the housing data to quarters and returns it as mean \n",
    "    values in a dataframe. This dataframe should be a dataframe with\n",
    "    columns for 2000q1 through 2016q3, and should have a multi-index\n",
    "    in the shape of [\"State\",\"RegionName\"].\n",
    "    \n",
    "    Note: Quarters are defined in the assignment description, they are\n",
    "    not arbitrary three month periods.\n",
    "    \n",
    "    The resulting dataframe should have 67 columns, and 10,730 rows.\n",
    "    '''\n",
    "    df = pd.read_csv('City_Zhvi_AllHomes.csv')\n",
    "    df['State'] = df['State'].map(states)\n",
    "    df.set_index(['State', 'RegionName'], inplace = True)\n",
    "    df.drop(['RegionID', 'Metro', 'CountyName', 'SizeRank'], axis = 1, inplace = True)\n",
    "    cols = []\n",
    "    for col in df.columns.tolist():\n",
    "        if int(col[:4]) >= 2000:\n",
    "            cols.append(col)\n",
    "    df = df[cols]\n",
    "    for y in range(2000, 2017):\n",
    "        if y < 2016:\n",
    "            for q in range(1, 5):\n",
    "                col_name = str(y)+'q'+str(q)\n",
    "                m1 = str(y)+'-'\n",
    "                m2 = str(y)+'-'\n",
    "                m3 = str(y)+'-'\n",
    "                if q <= 3:\n",
    "                    m1 += '0'+str((q-1)*3 + 1)\n",
    "                    m2 += '0'+str((q-1)*3 + 2)\n",
    "                    m3 += '0'+str((q-1)*3 + 3)\n",
    "                else:\n",
    "                    m1 += '10'\n",
    "                    m2 += '11'\n",
    "                    m3 += '12'\n",
    "                df[col_name] = (df[m1]+df[m2]+df[m3]) / 3\n",
    "        else:\n",
    "            for q in range(1, 4):\n",
    "                col_name = str(y)+'q'+str(q)\n",
    "                m1 = str(y)+'-'+'0'+str((q-1)*3 + 1)\n",
    "                m2 = str(y)+'-'+'0'+str((q-1)*3 + 1)\n",
    "                m3 = str(y)+'-'+'0'+str((q-1)*3 + 1)\n",
    "                if q == 3:\n",
    "                    df[col_name] = (df[m1]+df[m2]) / 2\n",
    "                else:\n",
    "                    df[col_name] = (df[m1]+df[m2]+df[m3]) / 3\n",
    "\n",
    "    df.drop(cols, axis = 1, inplace = True)\n",
    "    return df"
   ]
  },
  {
   "cell_type": "code",
   "execution_count": 8,
   "metadata": {
    "collapsed": true,
    "umich_part_id": "026",
    "umich_partlist_id": "004"
   },
   "outputs": [],
   "source": [
    "def run_ttest():\n",
    "    '''First creates new data showing the decline or growth of housing prices\n",
    "    between the recession start and the recession bottom. Then runs a ttest\n",
    "    comparing the university town values to the non-university towns values, \n",
    "    return whether the alternative hypothesis (that the two groups are the same)\n",
    "    is true or not as well as the p-value of the confidence. \n",
    "    \n",
    "    Return the tuple (different, p, better) where different=True if the t-test is\n",
    "    True at a p<0.01 (we reject the null hypothesis), or different=False if \n",
    "    otherwise (we cannot reject the null hypothesis). The variable p should\n",
    "    be equal to the exact p value returned from scipy.stats.ttest_ind(). The\n",
    "    value for better should be either \"university town\" or \"non-university town\"\n",
    "    depending on which has a lower mean price ratio (which is equivilent to a\n",
    "    reduced market loss).'''\n",
    "    df1 = get_list_of_university_towns()\n",
    "    df2 = convert_housing_data_to_quarters()\n",
    "    qrs = get_recession_start()\n",
    "    qrb = get_recession_bottom()\n",
    "    if int(qrs[-1]) == 1:\n",
    "        qbrs = str(int(qrs[:4])-1)+'q4'\n",
    "    else:\n",
    "        qbrs = qrs[:5]+str(int(qrs[-1])-1)\n",
    "    df2['PriceRatio'] = df2[qbrs].div(df2[qrb])\n",
    "    df2.reset_index(inplace = True)\n",
    "    df = pd.merge(df2, df1, on = df1.columns.tolist(), indicator = '_flag', how = 'left')\n",
    "    group1 = df[df['_flag'] == 'both']\n",
    "    group2 = df[df['_flag'] != 'both']\n",
    "    p = ttest_ind(group1['PriceRatio'], group2['PriceRatio'], nan_policy = 'omit')[1]\n",
    "    different = p < 0.01\n",
    "    g1_mean = group1['PriceRatio'].mean()\n",
    "    g2_mean = group2['PriceRatio'].mean()\n",
    "    if g1_mean < g2_mean:\n",
    "        better = \"university town\"\n",
    "    else:\n",
    "        better = \"non-university town\"\n",
    "    return (different, p, better)"
   ]
  }
 ],
 "metadata": {
  "coursera": {
   "course_slug": "python-data-analysis",
   "graded_item_id": "Il9Fx",
   "launcher_item_id": "TeDW0",
   "part_id": "WGlun"
  },
  "kernelspec": {
   "display_name": "Python 3",
   "language": "python",
   "name": "python3"
  },
  "language_info": {
   "codemirror_mode": {
    "name": "ipython",
    "version": 3
   },
   "file_extension": ".py",
   "mimetype": "text/x-python",
   "name": "python",
   "nbconvert_exporter": "python",
   "pygments_lexer": "ipython3",
   "version": "3.6.2"
  },
  "umich": {
   "id": "Assignment 4",
   "version": "1.1"
  }
 },
 "nbformat": 4,
 "nbformat_minor": 1
}
